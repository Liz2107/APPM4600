{
 "cells": [
  {
   "cell_type": "markdown",
   "metadata": {},
   "source": [
    "###Floating Point Arithmetic###"
   ]
  },
  {
   "cell_type": "markdown",
   "metadata": {},
   "source": [
    "Numerical Analysis: The design of algorithms that accurately and efficiently approximate things we care about. \n",
    "\n",
    "Floating point is necessary for the construction of reliable algorithms.\n",
    "\n",
    "The largest representable number is called the overflow number (OFL): 1.79 E 308\n",
    "\n",
    "The smallest representable number is called the underflow number (UFL): 2.2 E -308\n",
    "\n",
    "The representation of a real number is referred to as floating point. For real x, denote with fl(x). \n",
    "\n",
    "Precision Types:\n",
    "Single: 24 precision: Machine Epsilon: 2 E -24 (10^-8)\n",
    "Double 53 precision: M Epsilon: 2 E -53 (10^-16)\n",
    "\n",
    "If x is real number, \n",
    "\n",
    "|x - fl(x)| / |x| <= M Epsilon"
   ]
  },
  {
   "cell_type": "markdown",
   "metadata": {},
   "source": [
    "Day 2:\n",
    "Let Machine Epsilon be 10^-2\n",
    "x = 1/3\n",
    "what is ~x = fl(x)?\n",
    "0.33 (1/3 +/- .33*10^-2)\n",
    "Relative error: |x - x~|/|x| = 0.00333.../1/3 = 10^-2\n",
    "\n",
    "If x = 1/2, no relative error (0)\n",
    "\n",
    "Set x = 1234, what is ~x?\n",
    "1200 = 1.2 * 10^3\n",
    "\n",
    "Rel error = 34/1234 ~ 10^-2\n",
    "\n",
    "Ex: let x = 1.92403 * 10^2, y = 6.3578 * 10^-1\n",
    "Eval x+y in 6 digit arithmetic?\n",
    "\n",
    "192.403\n",
    "   .63578\n",
    "\n",
    "get rid of the 7 and 8\n",
    "192.403\n",
    "   .635\n",
    "193.038\n",
    "\n",
    "Be careful when adding/subtracting, can lose some/all digits\n",
    "\n",
    "Multiplication: overflow / inf\n",
    "\n",
    "The quotient of two precision #s may be truncated\n",
    "\n",
    "Series can converge if the terms become less than machine epsilon\n",
    "\n",
    "Consider task of finding roots of ax^2 + bx + c. If 4ac << b, roots will be computed as 0, but that would be wrong.\n",
    "\n",
    "Use formula above for the minus sign root, for other, normalize with conjugate to get 2c / -b - sqrt(b^2 - 4ac)\n",
    "\n"
   ]
  }
 ],
 "metadata": {
  "language_info": {
   "name": "python"
  }
 },
 "nbformat": 4,
 "nbformat_minor": 2
}
